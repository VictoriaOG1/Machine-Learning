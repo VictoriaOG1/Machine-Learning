{
 "cells": [
  {
   "attachments": {},
   "cell_type": "markdown",
   "metadata": {},
   "source": [
    "# Proyecto final\n",
    "### Machine Learning\n",
    "#### Integrantes: Alejandra Ospina (00212243)\n",
    "#### Fecha: 2023-05-10\n"
   ]
  },
  {
   "attachments": {},
   "cell_type": "markdown",
   "metadata": {},
   "source": [
    "### Introducción\n",
    "*Aqui se inserta la introducción*"
   ]
  },
  {
   "attachments": {},
   "cell_type": "markdown",
   "metadata": {},
   "source": [
    "##### Import de libraries"
   ]
  },
  {
   "cell_type": "code",
   "execution_count": 66,
   "metadata": {},
   "outputs": [],
   "source": [
    "# Import libraries  \n",
    "import pandas as pd\n",
    "import numpy as np\n",
    "import re\n",
    "import matplotlib.pyplot as plt\n",
    "import tensorflow as tf\n",
    "from tabulate import tabulate"
   ]
  },
  {
   "attachments": {},
   "cell_type": "markdown",
   "metadata": {},
   "source": [
    "##### Import dataset"
   ]
  },
  {
   "cell_type": "code",
   "execution_count": 80,
   "metadata": {},
   "outputs": [
    {
     "name": "stdout",
     "output_type": "stream",
     "text": [
      "Visualizing first 20 rows\n",
      "============================================================================================  ====================\n",
      "Selected Text (Tweets)                                                                        Target (Sentiment)\n",
      "============================================================================================  ====================\n",
      "I`d have responded, if I were going                                                           neutral\n",
      "Sooo SAD                                                                                      negative\n",
      "bullying me                                                                                   negative\n",
      "leave me alone                                                                                negative\n",
      "Sons of ****,                                                                                 negative\n",
      "http://www.dothebouncy.com/smf - some shameless plugging for the best Rangers forum on earth  neutral\n",
      "fun                                                                                           positive\n",
      "Soooo high                                                                                    neutral\n",
      "Both of you                                                                                   neutral\n",
      "Wow... u just became cooler.                                                                  positive\n",
      "============================================================================================  ====================\n"
     ]
    }
   ],
   "source": [
    "#Import dataset \n",
    "dataset = pd.read_csv('Tweets.csv', encoding='latin-1')\n",
    "dataset.columns = ['ID','text', 'selected_text', 'sentiment']\n",
    "\n",
    "# Get columns selected_text and sentiment\n",
    "selected_text = np.array(dataset['selected_text'].astype(str))\n",
    "sentiment = np.array(dataset['sentiment'])\n",
    "\n",
    "#Data visualization \n",
    "headers = ['Selected Text (Tweets)', 'Target (Sentiment)']\n",
    "complete_table = np.column_stack([selected_text, sentiment]) \n",
    "table = tabulate(complete_table[0:10,:], headers, tablefmt=\"rst\")\n",
    "print (\"Visualizing first 20 rows\")\n",
    "print(table)"
   ]
  },
  {
   "attachments": {},
   "cell_type": "markdown",
   "metadata": {},
   "source": [
    "##### Clean text (tweets)"
   ]
  },
  {
   "cell_type": "code",
   "execution_count": 82,
   "metadata": {},
   "outputs": [
    {
     "name": "stdout",
     "output_type": "stream",
     "text": [
      "['id have responded if i were going', 'sooo sad', 'bullying me', 'leave me alone', 'sons of ', '  some shameless plugging for the best rangers forum on earth', 'fun', 'soooo high', 'both of you', 'wow u just became cooler']\n"
     ]
    }
   ],
   "source": [
    "# Initialize an empty list to hold the cleaned selected text\n",
    "cleaned_selected_text = []\n",
    "\n",
    "# Define a regular expression pattern to match punctuation, symbols, and URLs\n",
    "pattern = r'[^\\w\\s]|http\\S+'\n",
    "\n",
    "# Iterate through each selected text in the dataset\n",
    "for text in selected_text:\n",
    "    # Use regular expressions to remove punctuation, symbols, and URLs\n",
    "    cleaned_text = re.sub(pattern, '', text)\n",
    "    # Append the cleaned selected text to the list\n",
    "    cleaned_selected_text.append(cleaned_text.lower())\n",
    "\n",
    "# Print the first 10 cleaned selected texts\n",
    "print(cleaned_selected_text[:10])"
   ]
  },
  {
   "attachments": {},
   "cell_type": "markdown",
   "metadata": {},
   "source": [
    "##### Vectorize text"
   ]
  },
  {
   "cell_type": "code",
   "execution_count": 96,
   "metadata": {},
   "outputs": [
    {
     "name": "stdout",
     "output_type": "stream",
     "text": [
      "['whats' 'with' 'twatter' 'lately' 'either' 'i' 'cant' 'get' 'on' 'or'\n",
      " 'the' 'replies' 'dont' 'turn' 'up']\n"
     ]
    }
   ],
   "source": [
    "# Initialize an empty list to hold the tokenized tweets\n",
    "tokenized_selected_text = []\n",
    "a = 0\n",
    "\n",
    "# Iterate through each selected text in the dataset to tokenize each sentence\n",
    "for cleaned_text in cleaned_selected_text:\n",
    "    # Split the text\n",
    "    tokenized_text = np.array(cleaned_text.split())\n",
    "    a=a+1\n",
    "    if(a==200):\n",
    "        print(tokenized_text)\n",
    "    # Append the tokenized selected text to the list\n",
    "    #tokenized_selected_text.append(tokenized_selected_text)\n",
    "\n",
    "# Print the first 3 tokenized selected texts\n",
    "#print(tokenized_selected_text[2])"
   ]
  },
  {
   "cell_type": "code",
   "execution_count": null,
   "metadata": {},
   "outputs": [],
   "source": []
  }
 ],
 "metadata": {
  "kernelspec": {
   "display_name": "base",
   "language": "python",
   "name": "python3"
  },
  "language_info": {
   "codemirror_mode": {
    "name": "ipython",
    "version": 3
   },
   "file_extension": ".py",
   "mimetype": "text/x-python",
   "name": "python",
   "nbconvert_exporter": "python",
   "pygments_lexer": "ipython3",
   "version": "3.9.16"
  },
  "orig_nbformat": 4
 },
 "nbformat": 4,
 "nbformat_minor": 2
}
