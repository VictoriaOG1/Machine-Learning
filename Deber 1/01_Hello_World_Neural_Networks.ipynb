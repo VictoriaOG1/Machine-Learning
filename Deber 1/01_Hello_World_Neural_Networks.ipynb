{
  "cells": [
    {
      "cell_type": "markdown",
      "metadata": {
        "colab_type": "text",
        "id": "view-in-github"
      },
      "source": [
        "<a href=\"https://colab.research.google.com/github/VictoriaOG1/Machine-Learning/blob/main/01_Hello_World_Neural_Networks.ipynb\" target=\"_parent\"><img src=\"https://colab.research.google.com/assets/colab-badge.svg\" alt=\"Open In Colab\"/></a>"
      ]
    },
    {
      "cell_type": "markdown",
      "metadata": {
        "id": "ZIAkIlfmCe1B"
      },
      "source": [
        "# The Hello World of Neural Networks"
      ]
    },
    {
      "cell_type": "markdown",
      "metadata": {
        "id": "fA93WUy1zzWf"
      },
      "source": [
        "Like every first app, you should start with something super simple that shows the overall scaffolding for how your code works. In the case of creating neural networks, one simple case is where it learns the relationship between two numbers. So, for example, if you were writing code for a function like this, you already know the 'rules': \n",
        "\n",
        "\n",
        "```\n",
        "def hw_function(x):\n",
        "    y = (2 * x) - 1\n",
        "    return y\n",
        "```\n",
        "\n",
        "So how would you train a neural network to do the equivalent task? By using data! By feeding it with a set of x's and y's, it should be able to figure out the relationship between them. \n",
        "\n",
        "This is obviously a very different paradigm from what you might be used to. So let's step through it piece by piece.\n"
      ]
    },
    {
      "cell_type": "markdown",
      "metadata": {
        "id": "DzbtdRcZDO9B"
      },
      "source": [
        "## Imports\n",
        "\n",
        "Let's start with the imports. Here, you are importing [TensorFlow](https://www.tensorflow.org/) and calling it `tf` for convention and ease of use.\n",
        "\n",
        "You then import a library called [`numpy`](https://numpy.org) which helps to represent data as arrays easily and to optimize numerical operations.\n",
        "\n",
        "The framework you will use to build a neural network as a sequence of layers is called [`keras`](https://keras.io/) so you will import that too.\n"
      ]
    },
    {
      "cell_type": "code",
      "execution_count": 355,
      "metadata": {
        "id": "X9uIpOS2zx7k"
      },
      "outputs": [
        {
          "name": "stdout",
          "output_type": "stream",
          "text": [
            "2.9.1\n"
          ]
        }
      ],
      "source": [
        "import tensorflow as tf\n",
        "import numpy as np\n",
        "from tensorflow import keras\n",
        "\n",
        "print(tf.__version__)"
      ]
    },
    {
      "cell_type": "markdown",
      "metadata": {
        "id": "wwJGmDrQ0EoB"
      },
      "source": [
        "## Define and Compile the Neural Network\n",
        "\n",
        "Next, you will create the simplest possible neural network. It has 1 layer with 1 neuron, and the input shape to it is just 1 value. You will build this model using Keras' [Sequential](https://keras.io/api/models/sequential/) class which allows you to define the network as a sequence of [layers](https://keras.io/api/layers/). You can use a single [Dense](https://keras.io/api/layers/core_layers/dense/) layer to build this simple network as shown below."
      ]
    },
    {
      "cell_type": "code",
      "execution_count": 356,
      "metadata": {
        "id": "kQFAr_xo0M4T"
      },
      "outputs": [],
      "source": [
        "# Build a simple Sequential model\n",
        "model = tf.keras.Sequential([\n",
        "                             keras.layers.Dense(units=1, input_shape=[1])\n",
        "                             ])"
      ]
    },
    {
      "cell_type": "markdown",
      "metadata": {
        "id": "KhjZjZ-c0Ok9"
      },
      "source": [
        "Now, you will compile the neural network. When you do so, you have to specify 2 functions: a [loss](https://keras.io/api/losses/) and an [optimizer](https://keras.io/api/optimizers/).\n",
        "\n",
        "If you've seen lots of math for machine learning, here's where it's usually used. But in this case, it's nicely encapsulated in functions and classes for you. But what happens here? Let's explain...\n",
        "\n",
        "You know that in the function declared at the start of this notebook, the relationship between the numbers is `y=2x-1`. When the computer is trying to 'learn' that, it makes a guess... maybe `y=10x+10`. The `loss` function measures the guessed answers against the known correct answers and measures how well or how badly it did.\n",
        "\n",
        "It then uses the `optimizer` function to make another guess. Based on how the loss function went, it will try to minimize the loss. At that point maybe it will come up with something like `y=5x+5`, which, while still pretty bad, is closer to the correct result (i.e. the loss is lower).\n",
        "\n",
        "It will repeat this for the number of _epochs_ which you will see shortly. But first, here's how you will tell it to use [mean squared error](https://keras.io/api/losses/regression_losses/#meansquarederror-function) for the loss and [stochastic gradient descent](https://keras.io/api/optimizers/sgd/) for the optimizer. You don't need to understand the math for these yet, but you can see that they work!\n",
        "\n",
        "Over time, you will learn the different and appropriate loss and optimizer functions for different scenarios. \n"
      ]
    },
    {
      "cell_type": "code",
      "execution_count": 357,
      "metadata": {
        "id": "m8YQN1H41L-Y"
      },
      "outputs": [],
      "source": [
        "# Compile the model\n",
        "model.compile(optimizer='sgd', loss='mean_squared_error')"
      ]
    },
    {
      "cell_type": "markdown",
      "metadata": {
        "id": "5QyOUhFw1OUX"
      },
      "source": [
        "## Providing the Data\n",
        "\n",
        "Next up, you will feed in some data. In this case, you are taking 6 X's and 6 Y's. You can see that the relationship between these is `y=2x-1`, so where `x = -1`, `y=-3` etc. \n",
        "\n",
        "The de facto standard way of declaring model inputs and outputs is to use `numpy`, a Python library that provides lots of array type data structures. You can specify these values by building numpy arrays with [`np.array()`](https://numpy.org/doc/stable/reference/generated/numpy.array.html)."
      ]
    },
    {
      "cell_type": "code",
      "execution_count": 358,
      "metadata": {
        "id": "4Dxk4q-jzEy4"
      },
      "outputs": [],
      "source": [
        "# Declare model inputs and outputs for training y = 2x - 1\n",
        "xs = np.array([-1.0,  0.0, 1.0, 2.0, 3.0, 4.0], dtype=float)\n",
        "ys = np.array([-3.0, -1.0, 1.0, 3.0, 5.0, 7.0], dtype=float)"
      ]
    },
    {
      "cell_type": "markdown",
      "metadata": {
        "id": "n_YcWRElnM_b"
      },
      "source": [
        "# Training the Neural Network\n",
        "\n",
        "The process of training the neural network, where it 'learns' the relationship between the x's and y's is in the [`model.fit()`](https://keras.io/api/models/model_training_apis/#fit-method)  call. This is where it will go through the loop we spoke about above: making a guess, measuring how good or bad it is (aka the loss), using the optimizer to make another guess etc. It will do it for the number of `epochs` you specify. When you run this code, you'll see the loss on the right hand side."
      ]
    },
    {
      "cell_type": "code",
      "execution_count": 359,
      "metadata": {
        "id": "lpRrl7WK10Pq"
      },
      "outputs": [
        {
          "data": {
            "text/plain": [
              "<keras.callbacks.History at 0x128a58c65e0>"
            ]
          },
          "execution_count": 359,
          "metadata": {},
          "output_type": "execute_result"
        }
      ],
      "source": [
        "# Train the model\n",
        "model.fit(xs, ys, epochs=500, verbose=False)"
      ]
    },
    {
      "cell_type": "markdown",
      "metadata": {
        "id": "kaFIr71H2OZ-"
      },
      "source": [
        "Ok, now you have a model that has been trained to learn the relationship between `x` and `y`. You can use the [`model.predict()`](https://keras.io/api/models/model_training_apis/#predict-method) method to have it figure out the `y` for a previously unknown `x`. So, for example, if `x=10`, what do you think `y` will be? Take a guess before you run this code:"
      ]
    },
    {
      "cell_type": "code",
      "execution_count": 360,
      "metadata": {
        "id": "oxNzL4lS2Gui"
      },
      "outputs": [
        {
          "name": "stdout",
          "output_type": "stream",
          "text": [
            "1/1 [==============================] - 0s 60ms/step\n",
            "[[38.96707]]\n",
            "dense_380\n",
            "[array([[1.9980515]], dtype=float32), array([-0.99395925], dtype=float32)]\n"
          ]
        }
      ],
      "source": [
        "# Make a prediction\n",
        "print(model.predict([20.0]))\n",
        "\n",
        "for lay in model.layers:\n",
        "    print(lay.name)\n",
        "    print(lay.get_weights())"
      ]
    },
    {
      "cell_type": "markdown",
      "metadata": {
        "id": "btF2CSFH2iEX"
      },
      "source": [
        "You might have thought `19`, right? But it ended up being a little under. Why do you think that is? \n",
        "\n",
        "Remember that neural networks deal with probabilities. So given the data that we fed the model with, it calculated that there is a very high probability that the relationship between `x` and `y` is `y=2x-1`, but with only 6 data points we can't know for sure. As a result, the result for 10 is very close to 19, but not necessarily 19.\n",
        "\n",
        "As you work with neural networks, you'll see this pattern recurring. You will almost always deal with probabilities, not certainties, and will do a little bit of coding to figure out what the result is based on the probabilities, particularly when it comes to classification.\n"
      ]
    },
    {
      "cell_type": "markdown",
      "metadata": {
        "id": "VGLSRktq5RKi"
      },
      "source": [
        "# Actividad\n",
        "Para los siguientes datos construya una red neuronal con dos capas ocultas con N unidades y con función de activación  sigmoide (i.e., `activation='sigmoid'`). Escoja N de modo que la predicción para una entrada de 2.5 sea lo más próximo a lo esperado (observe la relación cuadrática entre la entrada y salida). La capa de salida debe tener una sola unidad y su función de activación debe ser lineal (i.e., `activation='linear'`). Compile su modelo con el mismo optimizador y función de costo del ejemplo anterior. Entrene su modelo por 2000 épocas. Calcule el error cuadrático medio MSE en el conjunto de entrenamiento\n",
        "\n",
        "\n"
      ]
    },
    {
      "cell_type": "code",
      "execution_count": 361,
      "metadata": {
        "id": "efZJ9q7N6Xf5"
      },
      "outputs": [],
      "source": [
        "# Declare model inputs and outputs for training y = x^2\n",
        "xs = np.array([-4.0, -3.0, -2.0, -1.0, 0.0, 1.0, 2.0, 3.0, 4.0], dtype=float)\n",
        "ys = np.array([16, 9, 4, 1, 0, 1, 4, 9, 16], dtype=float)\n",
        "\n",
        "# Build a Sequential model\n",
        "model = tf.keras.Sequential([\n",
        "                             keras.layers.Dense(units=32, input_shape=[1]),\n",
        "                             keras.layers.Dense(units=64, activation='sigmoid'),\n",
        "                             keras.layers.Dense(units=128, activation='sigmoid'),\n",
        "                             keras.layers.Dense(units=1, activation='linear')\n",
        "                            ])\n",
        "\n",
        "#compile\n",
        "model.compile(optimizer='sgd', loss='mean_squared_error')\n",
        "\n",
        "#fit con epchos 2000\n",
        "his = model.fit(xs, ys, epochs=2000, verbose=False) #Verbose on false. Shows nothing of the progress "
      ]
    },
    {
      "cell_type": "code",
      "execution_count": 362,
      "metadata": {},
      "outputs": [
        {
          "data": {
            "image/png": "[encoded data removed]",
            "text/plain": [
              "<Figure size 640x480 with 1 Axes>"
            ]
          },
          "metadata": {},
          "output_type": "display_data"
        }
      ],
      "source": [
        "#MSE plot per epoch\n",
        "import matplotlib.pyplot as plt\n",
        "from statistics import mean\n",
        "plt.xlabel(\"Epoch\")\n",
        "plt.ylabel(\"Loss\")\n",
        "plt.title(label=\"Mean Squared Error\")\n",
        "plt.plot(his.history[\"loss\"], color='red')\n",
        "plt.show()"
      ]
    },
    {
      "cell_type": "code",
      "execution_count": 363,
      "metadata": {},
      "outputs": [
        {
          "name": "stdout",
          "output_type": "stream",
          "text": [
            "1/1 [==============================] - 0s 68ms/step\n",
            "[[6.2952943]]\n"
          ]
        }
      ],
      "source": [
        "#predict en x=2.5\n",
        "print(model.predict([2.5]))"
      ]
    },
    {
      "attachments": {},
      "cell_type": "markdown",
      "metadata": {},
      "source": [
        "Se pudo observar que cambiando las unidades había diferencia tanto del MSE y la predicción, después de hacer varias combinaciones se encontró que este modelo llega mejor al resultado real dando valores entre 6.01-6.53. El problema es que cada vez que se corre da nuevos valores y pueden ser valores cerca como alejados del resultado real puede ser por como funciona el optimizados sgd. Si se utilizan muchas neuronas puede dar un overfitting y siempre se obtenía un valor de 6.66 en la mayoría de corridas con modelos que tenían alta cantidad de neuronas. Asimismo, se puede mejorar el modelo utilizando un diferente optimizador como adam y otras funciones de activación como relu que dan mejores resultados. "
      ]
    }
  ],
  "metadata": {
    "colab": {
      "include_colab_link": true,
      "private_outputs": true,
      "provenance": []
    },
    "kernelspec": {
      "display_name": "base",
      "language": "python",
      "name": "python3"
    },
    "language_info": {
      "codemirror_mode": {
        "name": "ipython",
        "version": 3
      },
      "file_extension": ".py",
      "mimetype": "text/x-python",
      "name": "python",
      "nbconvert_exporter": "python",
      "pygments_lexer": "ipython3",
      "version": "3.9.13"
    },
    "vscode": {
      "interpreter": {
        "hash": "8cef000586676e618d74b8253673026fbe7d4d0e5a8ffc1a89b9f1f155ead414"
      }
    }
  },
  "nbformat": 4,
  "nbformat_minor": 0
}
